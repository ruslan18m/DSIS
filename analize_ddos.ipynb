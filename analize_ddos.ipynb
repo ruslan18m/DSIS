{
 "cells": [
  {
   "cell_type": "code",
   "execution_count": 1,
   "id": "444e7ad3",
   "metadata": {},
   "outputs": [],
   "source": [
    "import seaborn as sns\n",
    "import pandas as pd\n",
    "import numpy as np\n",
    "import matplotlib.pyplot as plt\n",
    "# from matplotlib.dates import WeekdayLocator, \\\n",
    "# DateFormatter, MonthLocator, DateLocator"
   ]
  },
  {
   "cell_type": "markdown",
   "id": "f6cd2ff0",
   "metadata": {},
   "source": [
    "На анализ был взят датасет DDoS-атаки"
   ]
  },
  {
   "cell_type": "code",
   "execution_count": 2,
   "id": "ee0afe75",
   "metadata": {},
   "outputs": [],
   "source": [
    "df = pd.read_csv('Friday-WorkingHours-Afternoon-DDos.pcap_ISCX.csv', header=0)\n",
    "df.columns = [x.strip().lower().replace(' ', '_') for x in df.columns]\n",
    "df['timestamp'] = pd.to_datetime(df.timestamp).dt.strftime('%H:%M:%S')"
   ]
  },
  {
   "cell_type": "code",
   "execution_count": 3,
   "id": "11c37b8e",
   "metadata": {
    "scrolled": false
   },
   "outputs": [
    {
     "data": {
      "text/plain": [
       "Index(['flow_id', 'source_ip', 'source_port', 'destination_ip',\n",
       "       'destination_port', 'protocol', 'timestamp', 'flow_duration',\n",
       "       'total_fwd_packets', 'total_backward_packets',\n",
       "       'total_length_of_fwd_packets', 'total_length_of_bwd_packets',\n",
       "       'fwd_packet_length_max', 'fwd_packet_length_min',\n",
       "       'fwd_packet_length_mean', 'fwd_packet_length_std',\n",
       "       'bwd_packet_length_max', 'bwd_packet_length_min',\n",
       "       'bwd_packet_length_mean', 'bwd_packet_length_std', 'flow_bytes/s',\n",
       "       'flow_packets/s', 'flow_iat_mean', 'flow_iat_std', 'flow_iat_max',\n",
       "       'flow_iat_min', 'fwd_iat_total', 'fwd_iat_mean', 'fwd_iat_std',\n",
       "       'fwd_iat_max', 'fwd_iat_min', 'bwd_iat_total', 'bwd_iat_mean',\n",
       "       'bwd_iat_std', 'bwd_iat_max', 'bwd_iat_min', 'fwd_psh_flags',\n",
       "       'bwd_psh_flags', 'fwd_urg_flags', 'bwd_urg_flags', 'fwd_header_length',\n",
       "       'bwd_header_length', 'fwd_packets/s', 'bwd_packets/s',\n",
       "       'min_packet_length', 'max_packet_length', 'packet_length_mean',\n",
       "       'packet_length_std', 'packet_length_variance', 'fin_flag_count',\n",
       "       'syn_flag_count', 'rst_flag_count', 'psh_flag_count', 'ack_flag_count',\n",
       "       'urg_flag_count', 'cwe_flag_count', 'ece_flag_count', 'down/up_ratio',\n",
       "       'average_packet_size', 'avg_fwd_segment_size', 'avg_bwd_segment_size',\n",
       "       'fwd_header_length.1', 'fwd_avg_bytes/bulk', 'fwd_avg_packets/bulk',\n",
       "       'fwd_avg_bulk_rate', 'bwd_avg_bytes/bulk', 'bwd_avg_packets/bulk',\n",
       "       'bwd_avg_bulk_rate', 'subflow_fwd_packets', 'subflow_fwd_bytes',\n",
       "       'subflow_bwd_packets', 'subflow_bwd_bytes', 'init_win_bytes_forward',\n",
       "       'init_win_bytes_backward', 'act_data_pkt_fwd', 'min_seg_size_forward',\n",
       "       'active_mean', 'active_std', 'active_max', 'active_min', 'idle_mean',\n",
       "       'idle_std', 'idle_max', 'idle_min', 'label'],\n",
       "      dtype='object')"
      ]
     },
     "execution_count": 3,
     "metadata": {},
     "output_type": "execute_result"
    }
   ],
   "source": [
    "df.columns"
   ]
  },
  {
   "cell_type": "code",
   "execution_count": 4,
   "id": "7c65ec39",
   "metadata": {},
   "outputs": [
    {
     "data": {
      "text/html": [
       "<div>\n",
       "<style scoped>\n",
       "    .dataframe tbody tr th:only-of-type {\n",
       "        vertical-align: middle;\n",
       "    }\n",
       "\n",
       "    .dataframe tbody tr th {\n",
       "        vertical-align: top;\n",
       "    }\n",
       "\n",
       "    .dataframe thead th {\n",
       "        text-align: right;\n",
       "    }\n",
       "</style>\n",
       "<table border=\"1\" class=\"dataframe\">\n",
       "  <thead>\n",
       "    <tr style=\"text-align: right;\">\n",
       "      <th></th>\n",
       "      <th>flow_id</th>\n",
       "      <th>source_ip</th>\n",
       "      <th>source_port</th>\n",
       "      <th>destination_ip</th>\n",
       "      <th>destination_port</th>\n",
       "      <th>protocol</th>\n",
       "      <th>timestamp</th>\n",
       "      <th>flow_duration</th>\n",
       "      <th>total_fwd_packets</th>\n",
       "      <th>total_backward_packets</th>\n",
       "      <th>...</th>\n",
       "      <th>min_seg_size_forward</th>\n",
       "      <th>active_mean</th>\n",
       "      <th>active_std</th>\n",
       "      <th>active_max</th>\n",
       "      <th>active_min</th>\n",
       "      <th>idle_mean</th>\n",
       "      <th>idle_std</th>\n",
       "      <th>idle_max</th>\n",
       "      <th>idle_min</th>\n",
       "      <th>label</th>\n",
       "    </tr>\n",
       "  </thead>\n",
       "  <tbody>\n",
       "    <tr>\n",
       "      <th>0</th>\n",
       "      <td>192.168.10.5-104.16.207.165-54865-443-6</td>\n",
       "      <td>104.16.207.165</td>\n",
       "      <td>443</td>\n",
       "      <td>192.168.10.5</td>\n",
       "      <td>54865</td>\n",
       "      <td>6</td>\n",
       "      <td>03:30:00</td>\n",
       "      <td>3</td>\n",
       "      <td>2</td>\n",
       "      <td>0</td>\n",
       "      <td>...</td>\n",
       "      <td>20</td>\n",
       "      <td>0.0</td>\n",
       "      <td>0.0</td>\n",
       "      <td>0</td>\n",
       "      <td>0</td>\n",
       "      <td>0.0</td>\n",
       "      <td>0.0</td>\n",
       "      <td>0</td>\n",
       "      <td>0</td>\n",
       "      <td>BENIGN</td>\n",
       "    </tr>\n",
       "    <tr>\n",
       "      <th>1</th>\n",
       "      <td>192.168.10.5-104.16.28.216-55054-80-6</td>\n",
       "      <td>104.16.28.216</td>\n",
       "      <td>80</td>\n",
       "      <td>192.168.10.5</td>\n",
       "      <td>55054</td>\n",
       "      <td>6</td>\n",
       "      <td>03:30:00</td>\n",
       "      <td>109</td>\n",
       "      <td>1</td>\n",
       "      <td>1</td>\n",
       "      <td>...</td>\n",
       "      <td>20</td>\n",
       "      <td>0.0</td>\n",
       "      <td>0.0</td>\n",
       "      <td>0</td>\n",
       "      <td>0</td>\n",
       "      <td>0.0</td>\n",
       "      <td>0.0</td>\n",
       "      <td>0</td>\n",
       "      <td>0</td>\n",
       "      <td>BENIGN</td>\n",
       "    </tr>\n",
       "    <tr>\n",
       "      <th>2</th>\n",
       "      <td>192.168.10.5-104.16.28.216-55055-80-6</td>\n",
       "      <td>104.16.28.216</td>\n",
       "      <td>80</td>\n",
       "      <td>192.168.10.5</td>\n",
       "      <td>55055</td>\n",
       "      <td>6</td>\n",
       "      <td>03:30:00</td>\n",
       "      <td>52</td>\n",
       "      <td>1</td>\n",
       "      <td>1</td>\n",
       "      <td>...</td>\n",
       "      <td>20</td>\n",
       "      <td>0.0</td>\n",
       "      <td>0.0</td>\n",
       "      <td>0</td>\n",
       "      <td>0</td>\n",
       "      <td>0.0</td>\n",
       "      <td>0.0</td>\n",
       "      <td>0</td>\n",
       "      <td>0</td>\n",
       "      <td>BENIGN</td>\n",
       "    </tr>\n",
       "    <tr>\n",
       "      <th>3</th>\n",
       "      <td>192.168.10.16-104.17.241.25-46236-443-6</td>\n",
       "      <td>104.17.241.25</td>\n",
       "      <td>443</td>\n",
       "      <td>192.168.10.16</td>\n",
       "      <td>46236</td>\n",
       "      <td>6</td>\n",
       "      <td>03:30:00</td>\n",
       "      <td>34</td>\n",
       "      <td>1</td>\n",
       "      <td>1</td>\n",
       "      <td>...</td>\n",
       "      <td>20</td>\n",
       "      <td>0.0</td>\n",
       "      <td>0.0</td>\n",
       "      <td>0</td>\n",
       "      <td>0</td>\n",
       "      <td>0.0</td>\n",
       "      <td>0.0</td>\n",
       "      <td>0</td>\n",
       "      <td>0</td>\n",
       "      <td>BENIGN</td>\n",
       "    </tr>\n",
       "    <tr>\n",
       "      <th>4</th>\n",
       "      <td>192.168.10.5-104.19.196.102-54863-443-6</td>\n",
       "      <td>104.19.196.102</td>\n",
       "      <td>443</td>\n",
       "      <td>192.168.10.5</td>\n",
       "      <td>54863</td>\n",
       "      <td>6</td>\n",
       "      <td>03:30:00</td>\n",
       "      <td>3</td>\n",
       "      <td>2</td>\n",
       "      <td>0</td>\n",
       "      <td>...</td>\n",
       "      <td>20</td>\n",
       "      <td>0.0</td>\n",
       "      <td>0.0</td>\n",
       "      <td>0</td>\n",
       "      <td>0</td>\n",
       "      <td>0.0</td>\n",
       "      <td>0.0</td>\n",
       "      <td>0</td>\n",
       "      <td>0</td>\n",
       "      <td>BENIGN</td>\n",
       "    </tr>\n",
       "  </tbody>\n",
       "</table>\n",
       "<p>5 rows × 85 columns</p>\n",
       "</div>"
      ],
      "text/plain": [
       "                                   flow_id       source_ip  source_port  \\\n",
       "0  192.168.10.5-104.16.207.165-54865-443-6  104.16.207.165          443   \n",
       "1    192.168.10.5-104.16.28.216-55054-80-6   104.16.28.216           80   \n",
       "2    192.168.10.5-104.16.28.216-55055-80-6   104.16.28.216           80   \n",
       "3  192.168.10.16-104.17.241.25-46236-443-6   104.17.241.25          443   \n",
       "4  192.168.10.5-104.19.196.102-54863-443-6  104.19.196.102          443   \n",
       "\n",
       "  destination_ip  destination_port  protocol timestamp  flow_duration  \\\n",
       "0   192.168.10.5             54865         6  03:30:00              3   \n",
       "1   192.168.10.5             55054         6  03:30:00            109   \n",
       "2   192.168.10.5             55055         6  03:30:00             52   \n",
       "3  192.168.10.16             46236         6  03:30:00             34   \n",
       "4   192.168.10.5             54863         6  03:30:00              3   \n",
       "\n",
       "   total_fwd_packets  total_backward_packets  ...  min_seg_size_forward  \\\n",
       "0                  2                       0  ...                    20   \n",
       "1                  1                       1  ...                    20   \n",
       "2                  1                       1  ...                    20   \n",
       "3                  1                       1  ...                    20   \n",
       "4                  2                       0  ...                    20   \n",
       "\n",
       "   active_mean  active_std  active_max  active_min  idle_mean  idle_std  \\\n",
       "0          0.0         0.0           0           0        0.0       0.0   \n",
       "1          0.0         0.0           0           0        0.0       0.0   \n",
       "2          0.0         0.0           0           0        0.0       0.0   \n",
       "3          0.0         0.0           0           0        0.0       0.0   \n",
       "4          0.0         0.0           0           0        0.0       0.0   \n",
       "\n",
       "   idle_max  idle_min   label  \n",
       "0         0         0  BENIGN  \n",
       "1         0         0  BENIGN  \n",
       "2         0         0  BENIGN  \n",
       "3         0         0  BENIGN  \n",
       "4         0         0  BENIGN  \n",
       "\n",
       "[5 rows x 85 columns]"
      ]
     },
     "execution_count": 4,
     "metadata": {},
     "output_type": "execute_result"
    }
   ],
   "source": [
    "df.head()"
   ]
  },
  {
   "cell_type": "markdown",
   "id": "11f9ee7c",
   "metadata": {},
   "source": [
    "# Строим График распредления количества запросов в секунду"
   ]
  },
  {
   "cell_type": "code",
   "execution_count": 7,
   "id": "92f642d9",
   "metadata": {},
   "outputs": [
    {
     "data": {
      "text/html": [
       "<div>\n",
       "<style scoped>\n",
       "    .dataframe tbody tr th:only-of-type {\n",
       "        vertical-align: middle;\n",
       "    }\n",
       "\n",
       "    .dataframe tbody tr th {\n",
       "        vertical-align: top;\n",
       "    }\n",
       "\n",
       "    .dataframe thead tr th {\n",
       "        text-align: left;\n",
       "    }\n",
       "\n",
       "    .dataframe thead tr:last-of-type th {\n",
       "        text-align: right;\n",
       "    }\n",
       "</style>\n",
       "<table border=\"1\" class=\"dataframe\">\n",
       "  <thead>\n",
       "    <tr>\n",
       "      <th></th>\n",
       "      <th colspan=\"4\" halign=\"left\">source_ip</th>\n",
       "    </tr>\n",
       "    <tr>\n",
       "      <th></th>\n",
       "      <th>count</th>\n",
       "      <th>unique</th>\n",
       "      <th>top</th>\n",
       "      <th>freq</th>\n",
       "    </tr>\n",
       "    <tr>\n",
       "      <th>timestamp</th>\n",
       "      <th></th>\n",
       "      <th></th>\n",
       "      <th></th>\n",
       "      <th></th>\n",
       "    </tr>\n",
       "  </thead>\n",
       "  <tbody>\n",
       "    <tr>\n",
       "      <th>03:30:00</th>\n",
       "      <td>1728</td>\n",
       "      <td>122</td>\n",
       "      <td>192.168.10.5</td>\n",
       "      <td>839</td>\n",
       "    </tr>\n",
       "    <tr>\n",
       "      <th>03:31:00</th>\n",
       "      <td>1905</td>\n",
       "      <td>159</td>\n",
       "      <td>192.168.10.16</td>\n",
       "      <td>648</td>\n",
       "    </tr>\n",
       "    <tr>\n",
       "      <th>03:32:00</th>\n",
       "      <td>386</td>\n",
       "      <td>66</td>\n",
       "      <td>192.168.10.17</td>\n",
       "      <td>61</td>\n",
       "    </tr>\n",
       "    <tr>\n",
       "      <th>03:33:00</th>\n",
       "      <td>1402</td>\n",
       "      <td>123</td>\n",
       "      <td>192.168.10.9</td>\n",
       "      <td>406</td>\n",
       "    </tr>\n",
       "    <tr>\n",
       "      <th>03:34:00</th>\n",
       "      <td>873</td>\n",
       "      <td>105</td>\n",
       "      <td>192.168.10.17</td>\n",
       "      <td>227</td>\n",
       "    </tr>\n",
       "    <tr>\n",
       "      <th>...</th>\n",
       "      <td>...</td>\n",
       "      <td>...</td>\n",
       "      <td>...</td>\n",
       "      <td>...</td>\n",
       "    </tr>\n",
       "    <tr>\n",
       "      <th>04:58:00</th>\n",
       "      <td>992</td>\n",
       "      <td>64</td>\n",
       "      <td>192.168.10.14</td>\n",
       "      <td>379</td>\n",
       "    </tr>\n",
       "    <tr>\n",
       "      <th>04:59:00</th>\n",
       "      <td>563</td>\n",
       "      <td>79</td>\n",
       "      <td>192.168.10.14</td>\n",
       "      <td>272</td>\n",
       "    </tr>\n",
       "    <tr>\n",
       "      <th>05:00:00</th>\n",
       "      <td>1106</td>\n",
       "      <td>72</td>\n",
       "      <td>192.168.10.15</td>\n",
       "      <td>407</td>\n",
       "    </tr>\n",
       "    <tr>\n",
       "      <th>05:01:00</th>\n",
       "      <td>287</td>\n",
       "      <td>52</td>\n",
       "      <td>192.168.10.14</td>\n",
       "      <td>48</td>\n",
       "    </tr>\n",
       "    <tr>\n",
       "      <th>05:02:00</th>\n",
       "      <td>159</td>\n",
       "      <td>50</td>\n",
       "      <td>192.168.10.19</td>\n",
       "      <td>28</td>\n",
       "    </tr>\n",
       "  </tbody>\n",
       "</table>\n",
       "<p>93 rows × 4 columns</p>\n",
       "</div>"
      ],
      "text/plain": [
       "          source_ip                           \n",
       "              count unique            top freq\n",
       "timestamp                                     \n",
       "03:30:00       1728    122   192.168.10.5  839\n",
       "03:31:00       1905    159  192.168.10.16  648\n",
       "03:32:00        386     66  192.168.10.17   61\n",
       "03:33:00       1402    123   192.168.10.9  406\n",
       "03:34:00        873    105  192.168.10.17  227\n",
       "...             ...    ...            ...  ...\n",
       "04:58:00        992     64  192.168.10.14  379\n",
       "04:59:00        563     79  192.168.10.14  272\n",
       "05:00:00       1106     72  192.168.10.15  407\n",
       "05:01:00        287     52  192.168.10.14   48\n",
       "05:02:00        159     50  192.168.10.19   28\n",
       "\n",
       "[93 rows x 4 columns]"
      ]
     },
     "execution_count": 7,
     "metadata": {},
     "output_type": "execute_result"
    }
   ],
   "source": [
    "ddos = df[['source_ip', 'timestamp']]\n",
    "ddos_describe = ddos.groupby('timestamp').describe()\n",
    "ddos_describe"
   ]
  },
  {
   "cell_type": "code",
   "execution_count": 8,
   "id": "2c0fa1ea",
   "metadata": {
    "scrolled": true
   },
   "outputs": [
    {
     "data": {
      "image/png": "[encoded data removed]",
      "text/plain": [
       "<Figure size 1080x360 with 1 Axes>"
      ]
     },
     "metadata": {
      "needs_background": "light"
     },
     "output_type": "display_data"
    }
   ],
   "source": [
    "plt.figure(figsize=(15, 5))\n",
    "ax = ddos_describe['source_ip']['count'].plot()"
   ]
  },
  {
   "cell_type": "code",
   "execution_count": 111,
   "id": "673c0447",
   "metadata": {
    "scrolled": true
   },
   "outputs": [
    {
     "data": {
      "image/png": "[encoded data removed]",
      "text/plain": [
       "<Figure size 1080x360 with 1 Axes>"
      ]
     },
     "metadata": {
      "needs_background": "light"
     },
     "output_type": "display_data"
    }
   ],
   "source": [
    "plt.figure(figsize=(15, 5))\n",
    "sns.countplot(x='timestamp', data=ddos)\n",
    "sns.set_context(\"notebook\", rc={'xtick.labelsize': 5.0,\n",
    "                                'xtick.major.size': 1.0,\n",
    "                                'xtick.major.width': 1.25,\n",
    "                                'xtick.minor.size': 4.0,\n",
    "                                'xtick.minor.width': 2.0,})"
   ]
  },
  {
   "cell_type": "code",
   "execution_count": 59,
   "id": "f2758066",
   "metadata": {
    "scrolled": true
   },
   "outputs": [
    {
     "data": {
      "text/plain": [
       "timestamp\n",
       "04:13:00    11188\n",
       "03:57:00    10769\n",
       "03:58:00     9731\n",
       "03:59:00     9460\n",
       "04:11:00     9438\n",
       "04:01:00     9281\n",
       "04:14:00     9254\n",
       "04:09:00     9173\n",
       "04:00:00     9164\n",
       "04:15:00     9042\n",
       "04:08:00     8930\n",
       "04:12:00     8847\n",
       "04:07:00     8799\n",
       "04:03:00     8788\n",
       "04:05:00     8556\n",
       "Name: count, dtype: object"
      ]
     },
     "execution_count": 59,
     "metadata": {},
     "output_type": "execute_result"
    }
   ],
   "source": [
    "ddos_describe['source_ip']['count'].sort_values(ascending=False).head(15)"
   ]
  },
  {
   "cell_type": "markdown",
   "id": "de018d06",
   "metadata": {},
   "source": [
    "Более точно определяем интервал атаки"
   ]
  },
  {
   "cell_type": "code",
   "execution_count": 10,
   "id": "cf155270",
   "metadata": {
    "scrolled": true
   },
   "outputs": [
    {
     "data": {
      "text/plain": [
       "timestamp\n",
       "04:10:00    8538\n",
       "04:02:00    8374\n",
       "04:06:00    8210\n",
       "04:04:00    8094\n",
       "03:56:00    3671\n",
       "04:16:00    2809\n",
       "03:31:00    1905\n",
       "04:29:00    1830\n",
       "03:30:00    1728\n",
       "04:23:00    1565\n",
       "03:33:00    1402\n",
       "03:40:00    1386\n",
       "04:53:00    1314\n",
       "04:40:00    1237\n",
       "03:51:00    1210\n",
       "Name: count, dtype: object"
      ]
     },
     "execution_count": 10,
     "metadata": {},
     "output_type": "execute_result"
    }
   ],
   "source": [
    "ddos_describe['source_ip']['count'][ddos_describe['source_ip']['count'] < 8556].sort_values(ascending=False).head(15)"
   ]
  },
  {
   "cell_type": "markdown",
   "id": "2d3c2312",
   "metadata": {},
   "source": [
    "# Исследуем саму атаку"
   ]
  },
  {
   "cell_type": "code",
   "execution_count": 30,
   "id": "81b30ae5",
   "metadata": {},
   "outputs": [],
   "source": [
    "ddos_time = df[['timestamp', 'source_ip', 'source_port', 'destination_ip', 'destination_port', 'packet_length_std','packet_length_mean', 'label']][(df['timestamp'] >= '03:56:00')&(df['timestamp'] <= '04:14:00')]\n",
    "ddos_time.source_port = ddos_time.source_port.astype(int)\n",
    "ddos_time.packet_length_mean = ddos_time.packet_length_mean.astype(int)"
   ]
  },
  {
   "cell_type": "markdown",
   "id": "ca7d650d",
   "metadata": {},
   "source": [
    "Сравним сколько запросов попало в отфильтрованную выборку"
   ]
  },
  {
   "cell_type": "code",
   "execution_count": 51,
   "id": "940c4811",
   "metadata": {
    "scrolled": false
   },
   "outputs": [
    {
     "data": {
      "text/plain": [
       "DDoS      120414\n",
       "BENIGN     47851\n",
       "Name: label, dtype: int64"
      ]
     },
     "execution_count": 51,
     "metadata": {},
     "output_type": "execute_result"
    }
   ],
   "source": [
    "ddos_time.label.value_counts()"
   ]
  },
  {
   "cell_type": "code",
   "execution_count": 61,
   "id": "46a1b2ef",
   "metadata": {},
   "outputs": [
    {
     "data": {
      "text/plain": [
       "DDoS      128027\n",
       "BENIGN     97718\n",
       "Name: label, dtype: int64"
      ]
     },
     "execution_count": 61,
     "metadata": {},
     "output_type": "execute_result"
    }
   ],
   "source": [
    "df.label.value_counts()"
   ]
  },
  {
   "cell_type": "code",
   "execution_count": 104,
   "id": "c7132029",
   "metadata": {
    "scrolled": true
   },
   "outputs": [
    {
     "data": {
      "text/plain": [
       "DDoS      71.562119\n",
       "BENIGN    28.437881\n",
       "Name: label, dtype: float64"
      ]
     },
     "execution_count": 104,
     "metadata": {},
     "output_type": "execute_result"
    }
   ],
   "source": [
    "(ddos_time.label.value_counts() / len(ddos_time.label)) * 100"
   ]
  },
  {
   "cell_type": "code",
   "execution_count": 105,
   "id": "f41428e2",
   "metadata": {
    "scrolled": false
   },
   "outputs": [
    {
     "data": {
      "text/plain": [
       "DDoS      56.713105\n",
       "BENIGN    43.286895\n",
       "Name: label, dtype: float64"
      ]
     },
     "execution_count": 105,
     "metadata": {},
     "output_type": "execute_result"
    }
   ],
   "source": [
    "(df.label.value_counts() / len(df.label)) * 100"
   ]
  },
  {
   "cell_type": "code",
   "execution_count": null,
   "id": "58cda447",
   "metadata": {},
   "outputs": [],
   "source": []
  },
  {
   "cell_type": "markdown",
   "id": "73e0bc4d",
   "metadata": {},
   "source": [
    "Проанализуем куда поступали атаковавшие запросы"
   ]
  },
  {
   "cell_type": "code",
   "execution_count": 41,
   "id": "d58e67a6",
   "metadata": {},
   "outputs": [
    {
     "data": {
      "text/plain": [
       "80       29717\n",
       "443       1475\n",
       "123         74\n",
       "137         61\n",
       "22          41\n",
       "         ...  \n",
       "19666        1\n",
       "19665        1\n",
       "19664        1\n",
       "19663        1\n",
       "9804         1\n",
       "Name: source_port, Length: 45959, dtype: int64"
      ]
     },
     "execution_count": 41,
     "metadata": {},
     "output_type": "execute_result"
    }
   ],
   "source": [
    "ddos_time.source_port.value_counts()"
   ]
  },
  {
   "cell_type": "code",
   "execution_count": 35,
   "id": "8a960564",
   "metadata": {
    "scrolled": true
   },
   "outputs": [
    {
     "data": {
      "text/plain": [
       "172.16.0.1        120411\n",
       "192.168.10.50      29481\n",
       "192.168.10.12       6036\n",
       "192.168.10.15       2663\n",
       "192.168.10.3        2169\n",
       "                   ...  \n",
       "172.217.10.66          1\n",
       "52.84.8.26             1\n",
       "23.194.100.143         1\n",
       "216.58.212.131         1\n",
       "8.43.72.47             1\n",
       "Name: source_ip, Length: 606, dtype: int64"
      ]
     },
     "execution_count": 35,
     "metadata": {},
     "output_type": "execute_result"
    }
   ],
   "source": [
    "ddos_time.source_ip.value_counts()"
   ]
  },
  {
   "cell_type": "markdown",
   "id": "40ad28ae",
   "metadata": {},
   "source": [
    "Предполгаем, что с ip 172.16.0.1 происходила ddos-атака"
   ]
  },
  {
   "cell_type": "code",
   "execution_count": 113,
   "id": "b193886c",
   "metadata": {
    "scrolled": true
   },
   "outputs": [
    {
     "data": {
      "text/plain": [
       "172.16.0.1       128024\n",
       "192.168.10.50         3\n",
       "Name: source_ip, dtype: int64"
      ]
     },
     "execution_count": 113,
     "metadata": {},
     "output_type": "execute_result"
    }
   ],
   "source": [
    "df[df.label == 'DDoS'].source_ip.value_counts()"
   ]
  },
  {
   "cell_type": "code",
   "execution_count": 114,
   "id": "cb4c7181",
   "metadata": {
    "scrolled": true
   },
   "outputs": [
    {
     "data": {
      "text/plain": [
       "80       128024\n",
       "64869         1\n",
       "64873         1\n",
       "27636         1\n",
       "Name: destination_port, dtype: int64"
      ]
     },
     "execution_count": 114,
     "metadata": {},
     "output_type": "execute_result"
    }
   ],
   "source": [
    "df[df.label == 'DDoS'].destination_port.value_counts()"
   ]
  },
  {
   "cell_type": "markdown",
   "id": "23713959",
   "metadata": {},
   "source": [
    "Подтвердили наше предположение"
   ]
  },
  {
   "cell_type": "code",
   "execution_count": null,
   "id": "2f84b3d3",
   "metadata": {},
   "outputs": [],
   "source": []
  },
  {
   "cell_type": "markdown",
   "id": "bd0e71d5",
   "metadata": {},
   "source": [
    "Проверим с каких портов происходила атака"
   ]
  },
  {
   "cell_type": "code",
   "execution_count": 75,
   "id": "c23d182d",
   "metadata": {},
   "outputs": [
    {
     "data": {
      "text/plain": [
       "43480"
      ]
     },
     "execution_count": 75,
     "metadata": {},
     "output_type": "execute_result"
    }
   ],
   "source": [
    "len(ddos_time[ddos_time.source_ip == '172.16.0.1'].source_port.unique())"
   ]
  },
  {
   "cell_type": "markdown",
   "id": "cfdff68d",
   "metadata": {},
   "source": [
    "Установили, что атака шла с одного сервера, но с разных портов"
   ]
  },
  {
   "cell_type": "code",
   "execution_count": null,
   "id": "0f15bc07",
   "metadata": {},
   "outputs": [],
   "source": []
  },
  {
   "cell_type": "markdown",
   "id": "5cdde2fe",
   "metadata": {},
   "source": [
    "Проверим куда шли запросы"
   ]
  },
  {
   "cell_type": "code",
   "execution_count": 79,
   "id": "2a7c9f57",
   "metadata": {},
   "outputs": [
    {
     "data": {
      "text/plain": [
       "192.168.10.50    120411\n",
       "Name: destination_ip, dtype: int64"
      ]
     },
     "execution_count": 79,
     "metadata": {},
     "output_type": "execute_result"
    }
   ],
   "source": [
    "ddos_time[ddos_time.source_ip == '172.16.0.1'].destination_ip.value_counts()"
   ]
  },
  {
   "cell_type": "code",
   "execution_count": 78,
   "id": "7f6a9eec",
   "metadata": {
    "scrolled": false
   },
   "outputs": [
    {
     "data": {
      "text/plain": [
       "80    120411\n",
       "Name: destination_port, dtype: int64"
      ]
     },
     "execution_count": 78,
     "metadata": {},
     "output_type": "execute_result"
    }
   ],
   "source": [
    "ddos_time[ddos_time.source_ip == '172.16.0.1'].destination_port.value_counts()"
   ]
  },
  {
   "cell_type": "code",
   "execution_count": null,
   "id": "20ec08f4",
   "metadata": {},
   "outputs": [],
   "source": []
  },
  {
   "cell_type": "code",
   "execution_count": 115,
   "id": "5b6154dd",
   "metadata": {},
   "outputs": [
    {
     "data": {
      "text/plain": [
       "192.168.10.50    120411\n",
       "Name: destination_ip, dtype: int64"
      ]
     },
     "execution_count": 115,
     "metadata": {},
     "output_type": "execute_result"
    }
   ],
   "source": [
    "df[(ddos_time.source_ip == '172.16.0.1') & (df.label == 'DDoS')].destination_ip.value_counts()"
   ]
  },
  {
   "cell_type": "code",
   "execution_count": 116,
   "id": "ca5f5ee1",
   "metadata": {},
   "outputs": [
    {
     "data": {
      "text/plain": [
       "80    120411\n",
       "Name: destination_port, dtype: int64"
      ]
     },
     "execution_count": 116,
     "metadata": {},
     "output_type": "execute_result"
    }
   ],
   "source": [
    "df[(ddos_time.source_ip == '172.16.0.1') & (df.label == 'DDoS')].destination_port.value_counts()"
   ]
  },
  {
   "cell_type": "markdown",
   "id": "1cff9063",
   "metadata": {},
   "source": [
    "Установили, что атака шла на 192.168.10.50:80"
   ]
  },
  {
   "cell_type": "code",
   "execution_count": null,
   "id": "4e3c8813",
   "metadata": {},
   "outputs": [],
   "source": []
  },
  {
   "cell_type": "markdown",
   "id": "5cb837c1",
   "metadata": {},
   "source": [
    "Сравним размеры пакетов"
   ]
  },
  {
   "cell_type": "code",
   "execution_count": 125,
   "id": "d0d3637c",
   "metadata": {},
   "outputs": [
    {
     "data": {
      "text/plain": [
       "6.000000       46571\n",
       "1292.555556    14391\n",
       "1163.300000     9476\n",
       "1453.375000     8605\n",
       "1162.700000     8374\n",
       "               ...  \n",
       "1056.454545        1\n",
       "1163.900000        1\n",
       "894.846154         1\n",
       "1058.090909        1\n",
       "552.500000         1\n",
       "Name: packet_length_mean, Length: 66, dtype: int64"
      ]
     },
     "execution_count": 125,
     "metadata": {},
     "output_type": "execute_result"
    }
   ],
   "source": [
    "df[(df.label == 'DDoS')].packet_length_mean.value_counts()"
   ]
  },
  {
   "cell_type": "code",
   "execution_count": 127,
   "id": "4cedcb33",
   "metadata": {
    "scrolled": true
   },
   "outputs": [
    {
     "data": {
      "text/plain": [
       "6       42203\n",
       "1292    13581\n",
       "1163     9028\n",
       "833      8428\n",
       "1453     8084\n",
       "1291     8027\n",
       "1162     7976\n",
       "777      6126\n",
       "1454     5688\n",
       "897      4847\n",
       "1057     1799\n",
       "729      1443\n",
       "778       987\n",
       "728       449\n",
       "971       351\n",
       "1452      234\n",
       "1661      228\n",
       "1660      225\n",
       "832       199\n",
       "686       163\n",
       "896       137\n",
       "968        50\n",
       "4          24\n",
       "969        19\n",
       "462        19\n",
       "279        17\n",
       "970        15\n",
       "1059       15\n",
       "348        12\n",
       "648         5\n",
       "1936        5\n",
       "2           4\n",
       "1164        4\n",
       "1058        4\n",
       "5           3\n",
       "895         2\n",
       "234         2\n",
       "614         1\n",
       "1165        1\n",
       "212         1\n",
       "687         1\n",
       "3           1\n",
       "1056        1\n",
       "894         1\n",
       "552         1\n",
       "Name: packet_length_mean, dtype: int64"
      ]
     },
     "execution_count": 127,
     "metadata": {},
     "output_type": "execute_result"
    }
   ],
   "source": [
    "ddos_time[ddos_time.source_ip == '172.16.0.1'].packet_length_mean.value_counts()"
   ]
  },
  {
   "cell_type": "markdown",
   "id": "a2a6645f",
   "metadata": {},
   "source": [
    "Зависимостей не было найдено"
   ]
  },
  {
   "cell_type": "markdown",
   "id": "f0422b67",
   "metadata": {},
   "source": [
    "# Выводы"
   ]
  },
  {
   "cell_type": "markdown",
   "id": "9560265a",
   "metadata": {},
   "source": [
    "Установили, что пик DDoS-атаки пришлось с 03:56:00 до 04:14:00. Запросы шли 172.16.0.1 с разных портов на 192.168.10.50:80. Закономейрностей в размере отправляемых пакетов найдено не было."
   ]
  }
 ],
 "metadata": {
  "kernelspec": {
   "display_name": "Python 3 (ipykernel)",
   "language": "python",
   "name": "python3"
  },
  "language_info": {
   "codemirror_mode": {
    "name": "ipython",
    "version": 3
   },
   "file_extension": ".py",
   "mimetype": "text/x-python",
   "name": "python",
   "nbconvert_exporter": "python",
   "pygments_lexer": "ipython3",
   "version": "3.9.7"
  }
 },
 "nbformat": 4,
 "nbformat_minor": 5
}
